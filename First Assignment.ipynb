{
 "cells": [
  {
   "cell_type": "markdown",
   "metadata": {},
   "source": [
    "# Task 1 (Create a GitHub repository (SN data Analytics)\n"
   ]
  },
  {
   "cell_type": "markdown",
   "metadata": {},
   "source": [
    "1) Creating a github repository wasn't much of an hassle for me after following the video content drop in the ressources channel,I followed the instructor dilligently,google github as instructed sign up and login to my account, navigate my way to repo nav bar and click new repository, named it(SN data Analytics), made it public, add read me and then click create repository as instructed by the instuctor. and then valha!\n",
    "\n",
    "2) However, the major problem i encouterd why trying to get statred with github is the SSH key.\n",
    "\n",
    "3) The solution i found after looking arround and doing my little reasearch is that i can decided just to know my username and password offhead or save it into SSH key repo so that anytime i want to push or clone from my repository to my local machine, i dont have to enter the username or password otherwise i have to enter my username or password.\n"
   ]
  },
  {
   "cell_type": "markdown",
   "metadata": {},
   "source": [
    "# Task 2 (Create a folder (First Assignment) inside the repository)"
   ]
  },
  {
   "cell_type": "markdown",
   "metadata": {},
   "source": [
    "1) To a create a folder, i try creating using the terminal using my git bash terminal, i create a repo using the code \"mkdir repo\" and i cd into it using \"cd repo\", then create my assignment folder using \"mkdir First_assignment\" and that was it for me.\n",
    "\n",
    "2) The problem i encouterd was trying to understand the question because my initial thought was that the folder would be created inside the \"SN data Analytics\" repository.\n",
    "\n",
    "3) The solution came base on my uderstanding and that was what i executed, i may be wrong, feedback will be well appreciated because the objective is to learn.\n"
   ]
  },
  {
   "cell_type": "markdown",
   "metadata": {},
   "source": [
    "# Task 3 (Push an empty note book to repository)"
   ]
  },
  {
   "cell_type": "markdown",
   "metadata": {},
   "source": [
    "1) This has to be the toughest of all taskes,probably tougher than the first two combine. I start the task by crating a folder where my empty note book will be, after crating the notebook. I intialized the folder using \"git init\" command make a commit using \"git commit <---->\", change the branch from master to main using the command \"git branch -M main\", then add to remote using the command \"git remote add origin https://github.com/Deennn/SN-data-Analytics.git\" and push to repsotory finally using \"git push -u origin main\" command.\n",
    "\n",
    "2) The major problem i encouterd is changing the branch name from master to main.I keep on getting a fatal error \"couldn't find remote ref refs/head\" after typing the command \"git branch -m main\" to the terminal\n",
    "\n",
    "3) I was able to solve the problem after a lot of googling, i later found an answer in stack overflow that said i should use the command \"git checkout -b <new_branch_name>\" which eventually work, even though i don't know the principle behind the it."
   ]
  }
 ],
 "metadata": {
  "kernelspec": {
   "display_name": "Python 3",
   "language": "python",
   "name": "python3"
  },
  "language_info": {
   "codemirror_mode": {
    "name": "ipython",
    "version": 3
   },
   "file_extension": ".py",
   "mimetype": "text/x-python",
   "name": "python",
   "nbconvert_exporter": "python",
   "pygments_lexer": "ipython3",
   "version": "3.8.5"
  }
 },
 "nbformat": 4,
 "nbformat_minor": 4
}
