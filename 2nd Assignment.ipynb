{
 "cells": [
  {
   "cell_type": "code",
   "execution_count": 1,
   "metadata": {},
   "outputs": [
    {
     "name": "stdout",
     "output_type": "stream",
     "text": [
      "1000\n"
     ]
    }
   ],
   "source": [
    "# 1.) How to convert the string \"1000\" to an integer.\n",
    "\n",
    "\"\"\"To convert string to integer we use the python built in function int(). i.e we will the pass the string inside \\\n",
    "the function as parameter.The process is known as \"type casting\". For example\"\"\"\n",
    "\n",
    "a = \"1000\" \n",
    "# Now to the convert the string above to integer, we will use int function\n",
    "b = int(a)\n",
    "print(b)\n",
    "\n"
   ]
  },
  {
   "cell_type": "code",
   "execution_count": 2,
   "metadata": {},
   "outputs": [
    {
     "name": "stdout",
     "output_type": "stream",
     "text": [
      "3\n"
     ]
    }
   ],
   "source": [
    "# 2.) How do i convert a floating point number 3.764 to an integer\n",
    "# To convert floating point number to integer, we will use the python built in function int()\n",
    "\n",
    "print(int(3.764))"
   ]
  },
  {
   "cell_type": "code",
   "execution_count": 11,
   "metadata": {},
   "outputs": [
    {
     "name": "stdout",
     "output_type": "stream",
     "text": [
      "99.45\n",
      "$99.45\n",
      "$99.45 dollars.\n",
      "$99.45 dollars.\n"
     ]
    }
   ],
   "source": [
    "# 3.) in python program, I have my business expenses represented by a floating point number: 99.45. \n",
    "# I want to express the value as a string. However i also want to add\n",
    "#  a dollar sogn in front of the amount\\\n",
    "# a space and word \"dollars\" at the end.\n",
    "\n",
    "# to express a floating point number as a string we will use the string funtion.\n",
    "print(str(99.45))\n",
    "# to add a dollar sign in front string we will use string formatting.\n",
    "x = 99.45\n",
    "y = str(99.45)\n",
    "print(\"${}\".format(y))\n",
    "# Now to add a space and a word dollars at the we will use string concatination\n",
    "z = (\"${}\".format(y))\n",
    "print(z + \" dollars.\")\n",
    "# or\n",
    "print(\"${}\".format(y) + \" dollars.\")"
   ]
  },
  {
   "cell_type": "code",
   "execution_count": 12,
   "metadata": {},
   "outputs": [
    {
     "data": {
      "text/plain": [
       "int"
      ]
     },
     "execution_count": 12,
     "metadata": {},
     "output_type": "execute_result"
    }
   ],
   "source": [
    "# 4.) What does the type function do?\n",
    "\"\"\"The type() function either returns the type of the objects or returns a new type object based on the arguments passed. for example\"\"\"\n",
    "type(4)\n",
    "# The function  is telling us that the arguments passed in an integer.\n"
   ]
  },
  {
   "cell_type": "code",
   "execution_count": 15,
   "metadata": {},
   "outputs": [
    {
     "data": {
      "text/plain": [
       "False"
      ]
     },
     "execution_count": 15,
     "metadata": {},
     "output_type": "execute_result"
    }
   ],
   "source": [
    "# 5.) What is a Boolean? What are the two possible values?\n",
    "\"\"\"Boolean is a built in data types in python. It is used to represent the truth value of an exppression. For example\"\"\"\n",
    "1<2 # the result obtain for this will true since 1 is less than 2\n",
    "# The two possible values are True or False.\n"
   ]
  },
  {
   "cell_type": "code",
   "execution_count": 21,
   "metadata": {},
   "outputs": [
    {
     "name": "stdout",
     "output_type": "stream",
     "text": [
      "Odd\n",
      "Even\n",
      "Odd\n",
      "Even\n",
      "Odd\n"
     ]
    }
   ],
   "source": [
    "# 6.) What is the technical name for % operator? What does it do?\n",
    "# The name is Modulus\n",
    "# It is the remainder obtain by divding two operands, It is majorly use if you're sorting a particular set of numbers among others, maybe like odd or even\n",
    "# for example\n",
    "x = [1,2,3,4,5]\n",
    "for i in x :\n",
    "    if i%2==0:\n",
    "        print(\"Even\")\n",
    "    else:\n",
    "        print(\"Odd\")"
   ]
  },
  {
   "cell_type": "code",
   "execution_count": 1,
   "metadata": {},
   "outputs": [
    {
     "name": "stdout",
     "output_type": "stream",
     "text": [
      "lawal Abideen Abayomi\n"
     ]
    }
   ],
   "source": [
    "# 7.) Declare a fancy_name variable and assign it a string with your name. then, invoke the print function and pass in fancy_name/\n",
    "#between the parenthensis.i.e print(fancy_name)\n",
    "\n",
    "fancy_name = \"lawal Abideen Abayomi\"\n",
    "print(fancy_name)\n"
   ]
  },
  {
   "cell_type": "code",
   "execution_count": 10,
   "metadata": {},
   "outputs": [
    {
     "name": "stdout",
     "output_type": "stream",
     "text": [
      "1hr is equal to 3600secs\n",
      "Time can not be negative\n"
     ]
    }
   ],
   "source": [
    "# 8.) Design a python fuction that converts time in hours to seconds. The program should convert hours to seconds and print out \\\n",
    "# a message with the value\n",
    "\n",
    "def convert(hour):\n",
    "    \"\"\"Conversion of hour ti seconds\"\"\"\n",
    "    #since 1hr = 3600secs\n",
    "    ans = hour * 3600\n",
    "    print(\"{}hr is equal to {}secs\".format(hour, ans))\n",
    "    \n",
    "convert(1)\n",
    "\n",
    "def converts(hours):\n",
    "    \"\"\"General cases putting negative numbers into consideraton since we can a negative time\"\"\"\n",
    "    if hours < 0:\n",
    "        print(\"Time can not be negative\")\n",
    "    else:\n",
    "        ans = hours * 3600\n",
    "        print(\"{}hr is equal to {}secs\".format(hours, ans))\n",
    "converts(-5)\n",
    "        "
   ]
  },
  {
   "cell_type": "code",
   "execution_count": 16,
   "metadata": {},
   "outputs": [
    {
     "name": "stdout",
     "output_type": "stream",
     "text": [
      "$10\n"
     ]
    }
   ],
   "source": [
    "# 9.)\n",
    "def easy_money():\n",
    "    a = 100\n",
    "    return(a)\n",
    "easy_money()\n",
    "\n",
    "# best food function\n",
    "def best_food():\n",
    "    b = \"Sushi\"\n",
    "    return(b)\n",
    "best_food()\n",
    "\n",
    "# convert_to_currency\n",
    "\n",
    "def convert_to_currency(x):\n",
    "    y = str(x)\n",
    "    return(\"${}\".format(y))\n",
    "convert_to_currency(10)"
   ]
  },
  {
   "cell_type": "code",
   "execution_count": 26,
   "metadata": {},
   "outputs": [
    {
     "data": {
      "text/plain": [
       "'Tiger '"
      ]
     },
     "execution_count": 26,
     "metadata": {},
     "output_type": "execute_result"
    }
   ],
   "source": [
    "# 10.)String_adder function\n",
    "\n",
    "def string_adder(a = \"\",b = \"\"):\n",
    "    return (a + \" \" + b)\n",
    "string_adder(\"Hello\", \"World\")\n",
    "string_adder(\"Emilio\", \"Estevez\")\n",
    "string_adder()\n",
    "string_adder(\"Tiger\")"
   ]
  },
  {
   "cell_type": "code",
   "execution_count": 28,
   "metadata": {},
   "outputs": [
    {
     "data": {
      "text/plain": [
       "True"
      ]
     },
     "execution_count": 28,
     "metadata": {},
     "output_type": "execute_result"
    }
   ],
   "source": [
    "# 11.) long_word function\n",
    "def long_word(a):\n",
    "    if len(a) >= 7:\n",
    "        return True\n",
    "    else:\n",
    "        return False\n",
    "    \n",
    "long_word(\"python\")\n",
    "long_word(\"Magnificient\")"
   ]
  },
  {
   "cell_type": "code",
   "execution_count": 33,
   "metadata": {},
   "outputs": [
    {
     "data": {
      "text/plain": [
       "True"
      ]
     },
     "execution_count": 33,
     "metadata": {},
     "output_type": "execute_result"
    }
   ],
   "source": [
    "# 12.) same_first_and_last_function\n",
    "def same_first_and_last_letter(letter):\n",
    "    if letter[0] == letter[-1]:\n",
    "        return True\n",
    "    else:\n",
    "        return False\n",
    "    \n",
    "same_first_and_last_letter(\"runner\")\n",
    "same_first_and_last_letter(\"Runner\")\n",
    "same_first_and_last_letter(\"clock\")\n",
    "same_first_and_last_letter(\"q\")"
   ]
  },
  {
   "cell_type": "code",
   "execution_count": 36,
   "metadata": {},
   "outputs": [
    {
     "data": {
      "text/plain": [
       "'emp'"
      ]
     },
     "execution_count": 36,
     "metadata": {},
     "output_type": "execute_result"
    }
   ],
   "source": [
    "# 13.) first_three_characters function\n",
    "def first_three_characters(a):\n",
    "    ans = a[:3]\n",
    "    return(ans)\n",
    "\n",
    "first_three_characters(\"dynasty\")\n",
    "first_three_characters(\"empire\")"
   ]
  },
  {
   "cell_type": "code",
   "execution_count": null,
   "metadata": {},
   "outputs": [],
   "source": []
  }
 ],
 "metadata": {
  "kernelspec": {
   "display_name": "Python 3",
   "language": "python",
   "name": "python3"
  },
  "language_info": {
   "codemirror_mode": {
    "name": "ipython",
    "version": 3
   },
   "file_extension": ".py",
   "mimetype": "text/x-python",
   "name": "python",
   "nbconvert_exporter": "python",
   "pygments_lexer": "ipython3",
   "version": "3.8.5"
  }
 },
 "nbformat": 4,
 "nbformat_minor": 4
}
